{
 "cells": [
  {
   "cell_type": "markdown",
   "source": [
    "# challenge 1\n",
    "https://adventofcode.com/2023/day/1\n",
    "\n",
    "- look at snow production\n",
    "- map with top 50 problem locations. two puzzles a day, total of 50 stars.\n",
    "- trebuchet\n",
    "- INPUT: calibration document\n",
    "  - lines of text, each with a calibration value\n",
    "  - value is two digits, 1st and last digits in the text\n",
    "  - if a single digit, it will be used as both first and last\n",
    "- OUTPUT: sum of all calibration values\n",
    "\n",
    "# IntelliJ\n",
    "⌃Ctrl↩Enter: Runs the current cell.\n"
   ],
   "metadata": {
    "collapsed": false
   }
  },
  {
   "cell_type": "code",
   "execution_count": 16,
   "outputs": [
    {
     "name": "stdout",
     "output_type": "stream",
     "text": [
      "reading calibration ..\n",
      "sum = 0\n"
     ]
    }
   ],
   "source": [
    "var c = Challenge()\n",
    "c.readCalibration()\n",
    "c.reportOutput()\n",
    "\n",
    "class Challenge {\n",
    "    var sum = 0\n",
    "    fun readCalibration() {\n",
    "        // https://www.baeldung.com/kotlin/read-file\n",
    "        println(\"reading calibration ..\")\n",
    "    }\n",
    "    fun reportOutput() {\n",
    "        println(\"sum = \" + sum)\n",
    "    }\n",
    "}"
   ],
   "metadata": {
    "collapsed": false,
    "ExecuteTime": {
     "end_time": "2023-12-09T19:48:46.959372Z",
     "start_time": "2023-12-09T19:48:46.882819Z"
    }
   }
  },
  {
   "cell_type": "code",
   "execution_count": null,
   "outputs": [],
   "source": [],
   "metadata": {
    "collapsed": false
   }
  }
 ],
 "metadata": {
  "kernelspec": {
   "display_name": "Kotlin",
   "language": "kotlin",
   "name": "kotlin"
  },
  "language_info": {
   "name": "kotlin",
   "version": "1.9.0",
   "mimetype": "text/x-kotlin",
   "file_extension": ".kt",
   "pygments_lexer": "kotlin",
   "codemirror_mode": "text/x-kotlin",
   "nbconvert_exporter": ""
  }
 },
 "nbformat": 4,
 "nbformat_minor": 0
}
