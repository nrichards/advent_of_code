{
 "cells": [
  {
   "cell_type": "markdown",
   "source": [
    "# challenge 1\n",
    "https://adventofcode.com/2023/day/1\n",
    "\n",
    "- look at snow production\n",
    "- map with top 50 problem locations. two puzzles a day, total of 50 stars.\n",
    "- trebuchet\n",
    "- INPUT: calibration document\n",
    "  - lines of text, each with a calibration value\n",
    "  - value is two digits, 1st and last digits in the text\n",
    "  - if a single digit, it will be used as both first and last\n",
    "- OUTPUT: sum of all calibration values\n",
    "\n",
    "# IntelliJ\n",
    "⌃Ctrl↩Enter: Runs the current cell.\n"
   ],
   "metadata": {
    "collapsed": false
   }
  },
  {
   "cell_type": "code",
   "execution_count": 87,
   "outputs": [
    {
     "name": "stdout",
     "output_type": "stream",
     "text": [
      "sum = 54940\n"
     ]
    }
   ],
   "source": [
    "import java.io.File\n",
    "import java.util.*\n",
    "\n",
    "enum class DebugFlags {\n",
    "    NOTHING,\n",
    "    PRINT_LINES,\n",
    "    PRINT_LINE_RESULT,\n",
    "    PROCESS_ONLY_ONE_LINE,\n",
    "    NO_INIT_BLOCK_EXECUTION,\n",
    "    DEBUG_FLOW\n",
    "    // Add more flags as needed\n",
    "}\n",
    "\n",
    "// Kotlin hello world https://www.programiz.com/kotlin-programming/hello-world\n",
    "class Challenge(\n",
    "    filename: String = \"../inputs/y2023/d01/input.txt\",\n",
    "    private val debug: EnumSet<DebugFlags> = EnumSet.of(\n",
    "        DebugFlags.PRINT_LINE_RESULT\n",
    "    )\n",
    ") {\n",
    "    var filename: String = filename\n",
    "    var sum = 0\n",
    "    \n",
    "    data class LineResult(val calibration: Int = 0, val line: String = \"\", val status: Boolean = true)\n",
    "\n",
    "    init {\n",
    "        if (!debug.contains(DebugFlags.NO_INIT_BLOCK_EXECUTION)) {\n",
    "            readCalibration(::processLine)\n",
    "            reportOutput()\n",
    "        } else {\n",
    "            println(\"$this not executing init block, DebugFlags.NO_INIT_BLOCK_EXECUTION is set\")\n",
    "        }\n",
    "    }\n",
    "\n",
    "    // Unit datatype https://stackoverflow.com/a/22655381\n",
    "    fun readCalibration(lineAction: (String) -> LineResult) {\n",
    "        // File reading https://www.baeldung.com/kotlin/read-file\n",
    "        if (debug.contains(DebugFlags.DEBUG_FLOW)) {\n",
    "            println(\"reading calibration ..\")\n",
    "        }\n",
    "\n",
    "        var file = File(filename)\n",
    "\n",
    "        if (file.exists()) {\n",
    "            file.useLines { lines ->\n",
    "                lines.forEach {\n",
    "                    val result = lineAction(it)\n",
    "                    if (debug.contains(DebugFlags.PRINT_LINE_RESULT)) {\n",
    "                        println(\"extracted $result\")\n",
    "                    }\n",
    "                    if (result.status) {\n",
    "                        sum += result.calibration\n",
    "                    }\n",
    "\n",
    "                    // return from block, aka qualified return - can mimic 'continue' or 'break', \n",
    "                    // depending upon whether the at-label is located at parent-level or at grandparent-level, respectively:\n",
    "                    //   https://stackoverflow.com/questions/48623031/it-it-possible-to-break-from-foreachline\n",
    "                    //   https://www.baeldung.com/kotlin/return-at\n",
    "                    //   https://stackoverflow.com/a/44109037\n",
    "                    if (debug.contains(DebugFlags.PROCESS_ONLY_ONE_LINE)) {\n",
    "                        return@useLines\n",
    "                    }\n",
    "                }\n",
    "            }\n",
    "        } else {\n",
    "            println(\"File does not exist: $filename\")\n",
    "        }\n",
    "    }\n",
    "\n",
    "    fun reportOutput() {\n",
    "        println(\"sum = $sum\")\n",
    "    }\n",
    "\n",
    "    fun processLine(line: String) : LineResult {\n",
    "        if (debug.contains(DebugFlags.PRINT_LINES)) {\n",
    "            println(\"line = $line\")\n",
    "        }\n",
    "\n",
    "        data class FindResult(var data: Char, var success: Boolean)\n",
    "\n",
    "        fun firstDigit(line: String): FindResult {\n",
    "            line.forEach { char ->\n",
    "                if (char.isDigit()) {\n",
    "                    return@firstDigit FindResult(char, true)\n",
    "                }\n",
    "            }\n",
    "            return FindResult(Char.MIN_VALUE, false)\n",
    "        }\n",
    "\n",
    "        var a = firstDigit(line)\n",
    "        var b = firstDigit(line.reversed())\n",
    "        if (a.success && b.success) {\n",
    "            val increment = String(charArrayOf(a.data, b.data)).toInt()\n",
    "            return LineResult(increment, line, true)\n",
    "        } else {\n",
    "            return LineResult(status = false)\n",
    "        }\n",
    "    }\n",
    "}\n",
    "\n",
    "var c = Challenge(\n",
    "    debug = EnumSet.of(\n",
    "        DebugFlags.NOTHING,\n",
    "//        DebugFlags.PRINT_LINES,\n",
    "//        DebugFlags.PROCESS_ONLY_ONE_LINE,\n",
    "//        DebugFlags.PRINT_LINE_RESULT,\n",
    "//        DebugFlags.DEBUG_FLOW,\n",
    "    )\n",
    ")\n"
   ],
   "metadata": {
    "collapsed": false,
    "ExecuteTime": {
     "end_time": "2023-12-10T01:38:51.276753Z",
     "start_time": "2023-12-10T01:38:51.016771Z"
    }
   }
  },
  {
   "cell_type": "code",
   "execution_count": null,
   "outputs": [],
   "source": [
    "import java.util.*\n",
    "\n",
    "var c = Challenge()\n"
   ],
   "metadata": {
    "collapsed": false
   }
  }
 ],
 "metadata": {
  "kernelspec": {
   "display_name": "Kotlin",
   "language": "kotlin",
   "name": "kotlin"
  },
  "language_info": {
   "name": "kotlin",
   "version": "1.9.0",
   "mimetype": "text/x-kotlin",
   "file_extension": ".kt",
   "pygments_lexer": "kotlin",
   "codemirror_mode": "text/x-kotlin",
   "nbconvert_exporter": ""
  }
 },
 "nbformat": 4,
 "nbformat_minor": 0
}
