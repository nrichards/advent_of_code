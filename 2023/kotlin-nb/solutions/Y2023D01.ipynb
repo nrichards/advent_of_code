{
 "cells": [
  {
   "cell_type": "markdown",
   "source": [
    "# challenge 1\n",
    "https://adventofcode.com/2023/day/1\n",
    "\n",
    "- look at snow production\n",
    "- map with top 50 problem locations. two puzzles a day, total of 50 stars.\n",
    "- trebuchet\n",
    "- INPUT: calibration document\n",
    "  - lines of text, each with a calibration value\n",
    "  - value is two digits, 1st and last digits in the text\n",
    "  - if a single digit, it will be used as both first and last\n",
    "- OUTPUT: sum of all calibration values\n",
    "\n",
    "# IntelliJ\n",
    "⌃Ctrl↩Enter: Runs the current cell.\n"
   ],
   "metadata": {
    "collapsed": false
   }
  },
  {
   "cell_type": "code",
   "execution_count": 75,
   "outputs": [
    {
     "name": "stdout",
     "output_type": "stream",
     "text": [
      "reading calibration ..\n",
      "sum = 54940\n"
     ]
    }
   ],
   "source": [
    "import java.io.File\n",
    "import java.util.*\n",
    "\n",
    "enum class DebugFlags {\n",
    "    PRINT_LINES,\n",
    "    PRINT_EXTRACTION_RESULT,\n",
    "    PROCESS_ONLY_ONE_LINE,\n",
    "    NO_INIT_BLOCK_EXECUTION,\n",
    "    DEBUG_CALLSTACK\n",
    "    // Add more flags as needed\n",
    "}\n",
    "\n",
    "// Kotlin hello world https://www.programiz.com/kotlin-programming/hello-world\n",
    "class Challenge(\n",
    "    filename: String = \"../inputs/y2023/d01/input.txt\",\n",
    "    private val debug: EnumSet<DebugFlags> = EnumSet.of(\n",
    "        DebugFlags.PRINT_LINES\n",
    "    )\n",
    ") {\n",
    "    var filename: String = filename\n",
    "    var sum = 0\n",
    "\n",
    "    init {\n",
    "        if (!debug.contains(DebugFlags.NO_INIT_BLOCK_EXECUTION)) {\n",
    "            readCalibration(::processLine)\n",
    "            reportOutput()\n",
    "        } else {\n",
    "            println(\"$this not executing init block, DebugFlags.NO_INIT_BLOCK_EXECUTION is set\")\n",
    "        }\n",
    "    }\n",
    "\n",
    "    // Unit datatype https://stackoverflow.com/a/22655381\n",
    "    fun readCalibration(lineAction: (String) -> Unit) {\n",
    "        // File reading https://www.baeldung.com/kotlin/read-file\n",
    "        if (debug.contains(DebugFlags.DEBUG_CALLSTACK)) {\n",
    "            println(\"reading calibration ..\")\n",
    "        }\n",
    "\n",
    "        var file = File(filename)\n",
    "\n",
    "        if (file.exists()) {\n",
    "            file.useLines { lines ->\n",
    "                lines.forEach {\n",
    "                    lineAction(it);\n",
    "\n",
    "                    // return from block, aka qualified return - can mimic 'continue' or 'break', \n",
    "                    // depending upon whether the at-label is located at parent-level or at grandparent-level, respectively:\n",
    "                    //   https://stackoverflow.com/questions/48623031/it-it-possible-to-break-from-foreachline\n",
    "                    //   https://www.baeldung.com/kotlin/return-at\n",
    "                    //   https://stackoverflow.com/a/44109037\n",
    "                    if (debug.contains(DebugFlags.PROCESS_ONLY_ONE_LINE)) {\n",
    "                        return@useLines\n",
    "                    }\n",
    "                }\n",
    "            }\n",
    "        } else {\n",
    "            println(\"File does not exist: $filename\")\n",
    "        }\n",
    "    }\n",
    "\n",
    "    fun reportOutput() {\n",
    "        println(\"sum = $sum\")\n",
    "    }\n",
    "\n",
    "    fun processLine(line: String) {\n",
    "        if (debug.contains(DebugFlags.PRINT_LINES)) {\n",
    "            println(\"line = $line\")\n",
    "        }\n",
    "\n",
    "        data class FindResult(var data: Char, var success: Boolean)\n",
    "\n",
    "        fun firstDigit(line: String): FindResult {\n",
    "            line.forEach { char ->\n",
    "                if (char.isDigit()) {\n",
    "                    return@firstDigit FindResult(char, true)\n",
    "                }\n",
    "            }\n",
    "            return FindResult(Char.MIN_VALUE, false)\n",
    "        }\n",
    "\n",
    "        var a = firstDigit(line)\n",
    "        var b = firstDigit(line.reversed())\n",
    "        if (a.success && b.success) {\n",
    "            val increment = String(charArrayOf(a.data, b.data)).toInt()\n",
    "            if (debug.contains(DebugFlags.PRINT_EXTRACTION_RESULT)) {\n",
    "                println(\"extracted $increment for $line\")\n",
    "            }\n",
    "            sum = sum + increment;\n",
    "        }\n",
    "    }\n",
    "}\n",
    "\n",
    "var c = Challenge(\n",
    "    debug = EnumSet.of(\n",
    "//        DebugFlags.PRINT_LINES,\n",
    "//        DebugFlags.PROCESS_ONLY_ONE_LINE,\n",
    "//        DebugFlags.PRINT_EXTRACTION_RESULT,\n",
    "        DebugFlags.DEBUG_CALLSTACK,\n",
    "    )\n",
    ")\n"
   ],
   "metadata": {
    "collapsed": false,
    "ExecuteTime": {
     "end_time": "2023-12-10T01:12:58.172571Z",
     "start_time": "2023-12-10T01:12:58.036500Z"
    }
   }
  },
  {
   "cell_type": "code",
   "execution_count": 76,
   "outputs": [
    {
     "name": "stdout",
     "output_type": "stream",
     "text": [
      "Line_75_jupyter$Challenge@6dc5c3e9 not executing init block, DebugFlags.NO_INIT_BLOCK_EXECUTION is set\n"
     ]
    }
   ],
   "source": [
    "import java.util.*\n",
    "\n",
    "var c = Challenge(\n",
    "    debug = EnumSet.of(\n",
    "        DebugFlags.PRINT_LINES,\n",
    "        DebugFlags.NO_INIT_BLOCK_EXECUTION\n",
    "    )\n",
    ")"
   ],
   "metadata": {
    "collapsed": false,
    "ExecuteTime": {
     "end_time": "2023-12-10T01:13:08.106210Z",
     "start_time": "2023-12-10T01:13:08.054569Z"
    }
   }
  }
 ],
 "metadata": {
  "kernelspec": {
   "display_name": "Kotlin",
   "language": "kotlin",
   "name": "kotlin"
  },
  "language_info": {
   "name": "kotlin",
   "version": "1.9.0",
   "mimetype": "text/x-kotlin",
   "file_extension": ".kt",
   "pygments_lexer": "kotlin",
   "codemirror_mode": "text/x-kotlin",
   "nbconvert_exporter": ""
  }
 },
 "nbformat": 4,
 "nbformat_minor": 0
}
